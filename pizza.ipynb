{
 "cells": [
  {
   "cell_type": "code",
   "execution_count": 1,
   "metadata": {},
   "outputs": [],
   "source": [
    "# загрузка библиотек\n",
    "import pandas as pd \n",
    "import numpy as np \n",
    "import matplotlib.pyplot as plt \n",
    "import seaborn as sns\n",
    "import warnings"
   ]
  },
  {
   "cell_type": "code",
   "execution_count": 4,
   "metadata": {},
   "outputs": [
    {
     "data": {
      "text/html": [
       "<div>\n",
       "<style scoped>\n",
       "    .dataframe tbody tr th:only-of-type {\n",
       "        vertical-align: middle;\n",
       "    }\n",
       "\n",
       "    .dataframe tbody tr th {\n",
       "        vertical-align: top;\n",
       "    }\n",
       "\n",
       "    .dataframe thead th {\n",
       "        text-align: right;\n",
       "    }\n",
       "</style>\n",
       "<table border=\"1\" class=\"dataframe\">\n",
       "  <thead>\n",
       "    <tr style=\"text-align: right;\">\n",
       "      <th></th>\n",
       "      <th>pizza_id</th>\n",
       "      <th>order_id</th>\n",
       "      <th>pizza_name_id</th>\n",
       "      <th>quantity</th>\n",
       "      <th>order_date</th>\n",
       "      <th>order_time</th>\n",
       "      <th>unit_price</th>\n",
       "      <th>total_price</th>\n",
       "      <th>pizza_size</th>\n",
       "      <th>pizza_category</th>\n",
       "      <th>pizza_ingredients</th>\n",
       "      <th>pizza_name</th>\n",
       "    </tr>\n",
       "  </thead>\n",
       "  <tbody>\n",
       "    <tr>\n",
       "      <th>0</th>\n",
       "      <td>1.0</td>\n",
       "      <td>1.0</td>\n",
       "      <td>hawaiian_m</td>\n",
       "      <td>1.0</td>\n",
       "      <td>1/1/2015</td>\n",
       "      <td>11:38:36</td>\n",
       "      <td>13.25</td>\n",
       "      <td>13.25</td>\n",
       "      <td>M</td>\n",
       "      <td>Classic</td>\n",
       "      <td>Sliced Ham, Pineapple, Mozzarella Cheese</td>\n",
       "      <td>The Hawaiian Pizza</td>\n",
       "    </tr>\n",
       "    <tr>\n",
       "      <th>1</th>\n",
       "      <td>2.0</td>\n",
       "      <td>2.0</td>\n",
       "      <td>classic_dlx_m</td>\n",
       "      <td>1.0</td>\n",
       "      <td>1/1/2015</td>\n",
       "      <td>11:57:40</td>\n",
       "      <td>16.00</td>\n",
       "      <td>16.00</td>\n",
       "      <td>M</td>\n",
       "      <td>Classic</td>\n",
       "      <td>Pepperoni, Mushrooms, Red Onions, Red Peppers,...</td>\n",
       "      <td>The Classic Deluxe Pizza</td>\n",
       "    </tr>\n",
       "    <tr>\n",
       "      <th>2</th>\n",
       "      <td>3.0</td>\n",
       "      <td>2.0</td>\n",
       "      <td>five_cheese_l</td>\n",
       "      <td>1.0</td>\n",
       "      <td>1/1/2015</td>\n",
       "      <td>11:57:40</td>\n",
       "      <td>18.50</td>\n",
       "      <td>18.50</td>\n",
       "      <td>L</td>\n",
       "      <td>Veggie</td>\n",
       "      <td>Mozzarella Cheese, Provolone Cheese, Smoked Go...</td>\n",
       "      <td>The Five Cheese Pizza</td>\n",
       "    </tr>\n",
       "    <tr>\n",
       "      <th>3</th>\n",
       "      <td>4.0</td>\n",
       "      <td>2.0</td>\n",
       "      <td>ital_supr_l</td>\n",
       "      <td>1.0</td>\n",
       "      <td>1/1/2015</td>\n",
       "      <td>11:57:40</td>\n",
       "      <td>20.75</td>\n",
       "      <td>20.75</td>\n",
       "      <td>L</td>\n",
       "      <td>Supreme</td>\n",
       "      <td>Calabrese Salami, Capocollo, Tomatoes, Red Oni...</td>\n",
       "      <td>The Italian Supreme Pizza</td>\n",
       "    </tr>\n",
       "    <tr>\n",
       "      <th>4</th>\n",
       "      <td>5.0</td>\n",
       "      <td>2.0</td>\n",
       "      <td>mexicana_m</td>\n",
       "      <td>1.0</td>\n",
       "      <td>1/1/2015</td>\n",
       "      <td>11:57:40</td>\n",
       "      <td>16.00</td>\n",
       "      <td>16.00</td>\n",
       "      <td>M</td>\n",
       "      <td>Veggie</td>\n",
       "      <td>Tomatoes, Red Peppers, Jalapeno Peppers, Red O...</td>\n",
       "      <td>The Mexicana Pizza</td>\n",
       "    </tr>\n",
       "    <tr>\n",
       "      <th>...</th>\n",
       "      <td>...</td>\n",
       "      <td>...</td>\n",
       "      <td>...</td>\n",
       "      <td>...</td>\n",
       "      <td>...</td>\n",
       "      <td>...</td>\n",
       "      <td>...</td>\n",
       "      <td>...</td>\n",
       "      <td>...</td>\n",
       "      <td>...</td>\n",
       "      <td>...</td>\n",
       "      <td>...</td>\n",
       "    </tr>\n",
       "    <tr>\n",
       "      <th>48615</th>\n",
       "      <td>48616.0</td>\n",
       "      <td>21348.0</td>\n",
       "      <td>ckn_alfredo_m</td>\n",
       "      <td>1.0</td>\n",
       "      <td>31-12-2015</td>\n",
       "      <td>21:23:10</td>\n",
       "      <td>16.75</td>\n",
       "      <td>16.75</td>\n",
       "      <td>M</td>\n",
       "      <td>Chicken</td>\n",
       "      <td>Chicken, Red Onions, Red Peppers, Mushrooms, A...</td>\n",
       "      <td>The Chicken Alfredo Pizza</td>\n",
       "    </tr>\n",
       "    <tr>\n",
       "      <th>48616</th>\n",
       "      <td>48617.0</td>\n",
       "      <td>21348.0</td>\n",
       "      <td>four_cheese_l</td>\n",
       "      <td>1.0</td>\n",
       "      <td>31-12-2015</td>\n",
       "      <td>21:23:10</td>\n",
       "      <td>17.95</td>\n",
       "      <td>17.95</td>\n",
       "      <td>L</td>\n",
       "      <td>Veggie</td>\n",
       "      <td>Ricotta Cheese, Gorgonzola Piccante Cheese, Mo...</td>\n",
       "      <td>The Four Cheese Pizza</td>\n",
       "    </tr>\n",
       "    <tr>\n",
       "      <th>48617</th>\n",
       "      <td>48618.0</td>\n",
       "      <td>21348.0</td>\n",
       "      <td>napolitana_s</td>\n",
       "      <td>1.0</td>\n",
       "      <td>31-12-2015</td>\n",
       "      <td>21:23:10</td>\n",
       "      <td>12.00</td>\n",
       "      <td>12.00</td>\n",
       "      <td>S</td>\n",
       "      <td>Classic</td>\n",
       "      <td>Tomatoes, Anchovies, Green Olives, Red Onions,...</td>\n",
       "      <td>The Napolitana Pizza</td>\n",
       "    </tr>\n",
       "    <tr>\n",
       "      <th>48618</th>\n",
       "      <td>48619.0</td>\n",
       "      <td>21349.0</td>\n",
       "      <td>mexicana_l</td>\n",
       "      <td>1.0</td>\n",
       "      <td>31-12-2015</td>\n",
       "      <td>22:09:54</td>\n",
       "      <td>20.25</td>\n",
       "      <td>20.25</td>\n",
       "      <td>L</td>\n",
       "      <td>Veggie</td>\n",
       "      <td>Tomatoes, Red Peppers, Jalapeno Peppers, Red O...</td>\n",
       "      <td>The Mexicana Pizza</td>\n",
       "    </tr>\n",
       "    <tr>\n",
       "      <th>48619</th>\n",
       "      <td>48620.0</td>\n",
       "      <td>21350.0</td>\n",
       "      <td>bbq_ckn_s</td>\n",
       "      <td>1.0</td>\n",
       "      <td>31-12-2015</td>\n",
       "      <td>23:02:05</td>\n",
       "      <td>12.75</td>\n",
       "      <td>12.75</td>\n",
       "      <td>S</td>\n",
       "      <td>Chicken</td>\n",
       "      <td>Barbecued Chicken, Red Peppers, Green Peppers,...</td>\n",
       "      <td>The Barbecue Chicken Pizza</td>\n",
       "    </tr>\n",
       "  </tbody>\n",
       "</table>\n",
       "<p>48620 rows × 12 columns</p>\n",
       "</div>"
      ],
      "text/plain": [
       "       pizza_id  order_id  pizza_name_id  quantity  order_date order_time  \\\n",
       "0           1.0       1.0     hawaiian_m       1.0    1/1/2015   11:38:36   \n",
       "1           2.0       2.0  classic_dlx_m       1.0    1/1/2015   11:57:40   \n",
       "2           3.0       2.0  five_cheese_l       1.0    1/1/2015   11:57:40   \n",
       "3           4.0       2.0    ital_supr_l       1.0    1/1/2015   11:57:40   \n",
       "4           5.0       2.0     mexicana_m       1.0    1/1/2015   11:57:40   \n",
       "...         ...       ...            ...       ...         ...        ...   \n",
       "48615   48616.0   21348.0  ckn_alfredo_m       1.0  31-12-2015   21:23:10   \n",
       "48616   48617.0   21348.0  four_cheese_l       1.0  31-12-2015   21:23:10   \n",
       "48617   48618.0   21348.0   napolitana_s       1.0  31-12-2015   21:23:10   \n",
       "48618   48619.0   21349.0     mexicana_l       1.0  31-12-2015   22:09:54   \n",
       "48619   48620.0   21350.0      bbq_ckn_s       1.0  31-12-2015   23:02:05   \n",
       "\n",
       "       unit_price  total_price pizza_size pizza_category  \\\n",
       "0           13.25        13.25          M        Classic   \n",
       "1           16.00        16.00          M        Classic   \n",
       "2           18.50        18.50          L         Veggie   \n",
       "3           20.75        20.75          L        Supreme   \n",
       "4           16.00        16.00          M         Veggie   \n",
       "...           ...          ...        ...            ...   \n",
       "48615       16.75        16.75          M        Chicken   \n",
       "48616       17.95        17.95          L         Veggie   \n",
       "48617       12.00        12.00          S        Classic   \n",
       "48618       20.25        20.25          L         Veggie   \n",
       "48619       12.75        12.75          S        Chicken   \n",
       "\n",
       "                                       pizza_ingredients  \\\n",
       "0               Sliced Ham, Pineapple, Mozzarella Cheese   \n",
       "1      Pepperoni, Mushrooms, Red Onions, Red Peppers,...   \n",
       "2      Mozzarella Cheese, Provolone Cheese, Smoked Go...   \n",
       "3      Calabrese Salami, Capocollo, Tomatoes, Red Oni...   \n",
       "4      Tomatoes, Red Peppers, Jalapeno Peppers, Red O...   \n",
       "...                                                  ...   \n",
       "48615  Chicken, Red Onions, Red Peppers, Mushrooms, A...   \n",
       "48616  Ricotta Cheese, Gorgonzola Piccante Cheese, Mo...   \n",
       "48617  Tomatoes, Anchovies, Green Olives, Red Onions,...   \n",
       "48618  Tomatoes, Red Peppers, Jalapeno Peppers, Red O...   \n",
       "48619  Barbecued Chicken, Red Peppers, Green Peppers,...   \n",
       "\n",
       "                       pizza_name  \n",
       "0              The Hawaiian Pizza  \n",
       "1        The Classic Deluxe Pizza  \n",
       "2           The Five Cheese Pizza  \n",
       "3       The Italian Supreme Pizza  \n",
       "4              The Mexicana Pizza  \n",
       "...                           ...  \n",
       "48615   The Chicken Alfredo Pizza  \n",
       "48616       The Four Cheese Pizza  \n",
       "48617        The Napolitana Pizza  \n",
       "48618          The Mexicana Pizza  \n",
       "48619  The Barbecue Chicken Pizza  \n",
       "\n",
       "[48620 rows x 12 columns]"
      ]
     },
     "execution_count": 4,
     "metadata": {},
     "output_type": "execute_result"
    }
   ],
   "source": [
    "# загрузка датасета\n",
    "pizza = pd.read_csv('pizza_sales.csv', encoding='1251')\n",
    "pizza"
   ]
  },
  {
   "cell_type": "code",
   "execution_count": 36,
   "metadata": {},
   "outputs": [
    {
     "data": {
      "text/html": [
       "<div>\n",
       "<style scoped>\n",
       "    .dataframe tbody tr th:only-of-type {\n",
       "        vertical-align: middle;\n",
       "    }\n",
       "\n",
       "    .dataframe tbody tr th {\n",
       "        vertical-align: top;\n",
       "    }\n",
       "\n",
       "    .dataframe thead th {\n",
       "        text-align: right;\n",
       "    }\n",
       "</style>\n",
       "<table border=\"1\" class=\"dataframe\">\n",
       "  <thead>\n",
       "    <tr style=\"text-align: right;\">\n",
       "      <th></th>\n",
       "      <th>pizza_id</th>\n",
       "      <th>order_id</th>\n",
       "      <th>pizza_name_id</th>\n",
       "      <th>quantity</th>\n",
       "      <th>order_date</th>\n",
       "      <th>order_time</th>\n",
       "      <th>unit_price</th>\n",
       "      <th>total_price</th>\n",
       "      <th>pizza_size</th>\n",
       "      <th>pizza_category</th>\n",
       "      <th>pizza_ingredients</th>\n",
       "      <th>pizza_name</th>\n",
       "      <th>order_month</th>\n",
       "      <th>order_day</th>\n",
       "    </tr>\n",
       "  </thead>\n",
       "  <tbody>\n",
       "  </tbody>\n",
       "</table>\n",
       "</div>"
      ],
      "text/plain": [
       "Empty DataFrame\n",
       "Columns: [pizza_id, order_id, pizza_name_id, quantity, order_date, order_time, unit_price, total_price, pizza_size, pizza_category, pizza_ingredients, pizza_name, order_month, order_day]\n",
       "Index: []"
      ]
     },
     "execution_count": 36,
     "metadata": {},
     "output_type": "execute_result"
    }
   ],
   "source": [
    "# проверка на наличие дубликатов\n",
    "pizza[pizza.duplicated()]"
   ]
  },
  {
   "cell_type": "code",
   "execution_count": 5,
   "metadata": {},
   "outputs": [
    {
     "name": "stdout",
     "output_type": "stream",
     "text": [
      "<class 'pandas.core.frame.DataFrame'>\n",
      "RangeIndex: 48620 entries, 0 to 48619\n",
      "Data columns (total 12 columns):\n",
      " #   Column             Non-Null Count  Dtype  \n",
      "---  ------             --------------  -----  \n",
      " 0   pizza_id           48620 non-null  float64\n",
      " 1   order_id           48620 non-null  float64\n",
      " 2   pizza_name_id      48620 non-null  object \n",
      " 3   quantity           48620 non-null  float64\n",
      " 4   order_date         48620 non-null  object \n",
      " 5   order_time         48620 non-null  object \n",
      " 6   unit_price         48620 non-null  float64\n",
      " 7   total_price        48620 non-null  float64\n",
      " 8   pizza_size         48620 non-null  object \n",
      " 9   pizza_category     48620 non-null  object \n",
      " 10  pizza_ingredients  48620 non-null  object \n",
      " 11  pizza_name         48620 non-null  object \n",
      "dtypes: float64(5), object(7)\n",
      "memory usage: 4.5+ MB\n"
     ]
    }
   ],
   "source": [
    "# просмотр информации по датасету, наличие пустых значений, типов данных\n",
    "pizza.info()"
   ]
  },
  {
   "cell_type": "markdown",
   "metadata": {},
   "source": [
    "Ни в одной колонке нет пустых значений, в тех колонках, где указаны цифры, тип данных - float, корректный и необходимый для рассчетов, дубликатов строк нет.\n",
    "Проведем следующую предобработке:\n",
    "* Добавим несколько колонок, выделив из даты и времени заказа часы, месяц и день недели.\n",
    "* Приведем значения в колонке date_order к единому формату."
   ]
  },
  {
   "cell_type": "code",
   "execution_count": 37,
   "metadata": {},
   "outputs": [],
   "source": [
    "# приведение колонки order_date к единому формату\n",
    "pizza['order_date'] = pd.to_datetime(pizza['order_date'], infer_datetime_format=True).dt.strftime('%Y/%m/%d')"
   ]
  },
  {
   "cell_type": "code",
   "execution_count": 38,
   "metadata": {},
   "outputs": [],
   "source": [
    "# извлечение номера месяца из даты\n",
    "pizza['order_month'] = pd.to_datetime(pizza.order_date).dt.month"
   ]
  },
  {
   "cell_type": "code",
   "execution_count": 39,
   "metadata": {},
   "outputs": [],
   "source": [
    "# Извлечение имени дня недели из даты\n",
    "pizza['order_day'] =  pd.to_datetime(pizza.order_date).dt.day_name()"
   ]
  },
  {
   "cell_type": "code",
   "execution_count": 44,
   "metadata": {},
   "outputs": [],
   "source": [
    "# извлечение номера дня недели\n",
    "pizza['order_day_number'] = pd.to_datetime(pizza['order_date']).dt.day_of_week"
   ]
  },
  {
   "cell_type": "code",
   "execution_count": 45,
   "metadata": {},
   "outputs": [],
   "source": [
    "# извлечение часа из order_time\n",
    "pizza['order_hour'] = pd.to_datetime(pizza['order_time']).dt.hour"
   ]
  },
  {
   "cell_type": "code",
   "execution_count": 48,
   "metadata": {},
   "outputs": [
    {
     "data": {
      "text/html": [
       "<div>\n",
       "<style scoped>\n",
       "    .dataframe tbody tr th:only-of-type {\n",
       "        vertical-align: middle;\n",
       "    }\n",
       "\n",
       "    .dataframe tbody tr th {\n",
       "        vertical-align: top;\n",
       "    }\n",
       "\n",
       "    .dataframe thead th {\n",
       "        text-align: right;\n",
       "    }\n",
       "</style>\n",
       "<table border=\"1\" class=\"dataframe\">\n",
       "  <thead>\n",
       "    <tr style=\"text-align: right;\">\n",
       "      <th></th>\n",
       "      <th>pizza_id</th>\n",
       "      <th>order_id</th>\n",
       "      <th>pizza_name_id</th>\n",
       "      <th>quantity</th>\n",
       "      <th>order_date</th>\n",
       "      <th>order_time</th>\n",
       "      <th>unit_price</th>\n",
       "      <th>total_price</th>\n",
       "      <th>pizza_size</th>\n",
       "      <th>pizza_category</th>\n",
       "      <th>pizza_ingredients</th>\n",
       "      <th>pizza_name</th>\n",
       "      <th>order_month</th>\n",
       "      <th>order_day</th>\n",
       "      <th>order_day_number</th>\n",
       "      <th>order_hour</th>\n",
       "    </tr>\n",
       "  </thead>\n",
       "  <tbody>\n",
       "    <tr>\n",
       "      <th>0</th>\n",
       "      <td>1.0</td>\n",
       "      <td>1.0</td>\n",
       "      <td>hawaiian_m</td>\n",
       "      <td>1.0</td>\n",
       "      <td>2015/01/01</td>\n",
       "      <td>11:38:36</td>\n",
       "      <td>13.25</td>\n",
       "      <td>13.25</td>\n",
       "      <td>M</td>\n",
       "      <td>Classic</td>\n",
       "      <td>Sliced Ham, Pineapple, Mozzarella Cheese</td>\n",
       "      <td>The Hawaiian Pizza</td>\n",
       "      <td>1</td>\n",
       "      <td>Thursday</td>\n",
       "      <td>3</td>\n",
       "      <td>11</td>\n",
       "    </tr>\n",
       "    <tr>\n",
       "      <th>1</th>\n",
       "      <td>2.0</td>\n",
       "      <td>2.0</td>\n",
       "      <td>classic_dlx_m</td>\n",
       "      <td>1.0</td>\n",
       "      <td>2015/01/01</td>\n",
       "      <td>11:57:40</td>\n",
       "      <td>16.00</td>\n",
       "      <td>16.00</td>\n",
       "      <td>M</td>\n",
       "      <td>Classic</td>\n",
       "      <td>Pepperoni, Mushrooms, Red Onions, Red Peppers,...</td>\n",
       "      <td>The Classic Deluxe Pizza</td>\n",
       "      <td>1</td>\n",
       "      <td>Thursday</td>\n",
       "      <td>3</td>\n",
       "      <td>11</td>\n",
       "    </tr>\n",
       "    <tr>\n",
       "      <th>2</th>\n",
       "      <td>3.0</td>\n",
       "      <td>2.0</td>\n",
       "      <td>five_cheese_l</td>\n",
       "      <td>1.0</td>\n",
       "      <td>2015/01/01</td>\n",
       "      <td>11:57:40</td>\n",
       "      <td>18.50</td>\n",
       "      <td>18.50</td>\n",
       "      <td>L</td>\n",
       "      <td>Veggie</td>\n",
       "      <td>Mozzarella Cheese, Provolone Cheese, Smoked Go...</td>\n",
       "      <td>The Five Cheese Pizza</td>\n",
       "      <td>1</td>\n",
       "      <td>Thursday</td>\n",
       "      <td>3</td>\n",
       "      <td>11</td>\n",
       "    </tr>\n",
       "    <tr>\n",
       "      <th>3</th>\n",
       "      <td>4.0</td>\n",
       "      <td>2.0</td>\n",
       "      <td>ital_supr_l</td>\n",
       "      <td>1.0</td>\n",
       "      <td>2015/01/01</td>\n",
       "      <td>11:57:40</td>\n",
       "      <td>20.75</td>\n",
       "      <td>20.75</td>\n",
       "      <td>L</td>\n",
       "      <td>Supreme</td>\n",
       "      <td>Calabrese Salami, Capocollo, Tomatoes, Red Oni...</td>\n",
       "      <td>The Italian Supreme Pizza</td>\n",
       "      <td>1</td>\n",
       "      <td>Thursday</td>\n",
       "      <td>3</td>\n",
       "      <td>11</td>\n",
       "    </tr>\n",
       "    <tr>\n",
       "      <th>4</th>\n",
       "      <td>5.0</td>\n",
       "      <td>2.0</td>\n",
       "      <td>mexicana_m</td>\n",
       "      <td>1.0</td>\n",
       "      <td>2015/01/01</td>\n",
       "      <td>11:57:40</td>\n",
       "      <td>16.00</td>\n",
       "      <td>16.00</td>\n",
       "      <td>M</td>\n",
       "      <td>Veggie</td>\n",
       "      <td>Tomatoes, Red Peppers, Jalapeno Peppers, Red O...</td>\n",
       "      <td>The Mexicana Pizza</td>\n",
       "      <td>1</td>\n",
       "      <td>Thursday</td>\n",
       "      <td>3</td>\n",
       "      <td>11</td>\n",
       "    </tr>\n",
       "  </tbody>\n",
       "</table>\n",
       "</div>"
      ],
      "text/plain": [
       "   pizza_id  order_id  pizza_name_id  quantity  order_date order_time  \\\n",
       "0       1.0       1.0     hawaiian_m       1.0  2015/01/01   11:38:36   \n",
       "1       2.0       2.0  classic_dlx_m       1.0  2015/01/01   11:57:40   \n",
       "2       3.0       2.0  five_cheese_l       1.0  2015/01/01   11:57:40   \n",
       "3       4.0       2.0    ital_supr_l       1.0  2015/01/01   11:57:40   \n",
       "4       5.0       2.0     mexicana_m       1.0  2015/01/01   11:57:40   \n",
       "\n",
       "   unit_price  total_price pizza_size pizza_category  \\\n",
       "0       13.25        13.25          M        Classic   \n",
       "1       16.00        16.00          M        Classic   \n",
       "2       18.50        18.50          L         Veggie   \n",
       "3       20.75        20.75          L        Supreme   \n",
       "4       16.00        16.00          M         Veggie   \n",
       "\n",
       "                                   pizza_ingredients  \\\n",
       "0           Sliced Ham, Pineapple, Mozzarella Cheese   \n",
       "1  Pepperoni, Mushrooms, Red Onions, Red Peppers,...   \n",
       "2  Mozzarella Cheese, Provolone Cheese, Smoked Go...   \n",
       "3  Calabrese Salami, Capocollo, Tomatoes, Red Oni...   \n",
       "4  Tomatoes, Red Peppers, Jalapeno Peppers, Red O...   \n",
       "\n",
       "                  pizza_name  order_month order_day  order_day_number  \\\n",
       "0         The Hawaiian Pizza            1  Thursday                 3   \n",
       "1   The Classic Deluxe Pizza            1  Thursday                 3   \n",
       "2      The Five Cheese Pizza            1  Thursday                 3   \n",
       "3  The Italian Supreme Pizza            1  Thursday                 3   \n",
       "4         The Mexicana Pizza            1  Thursday                 3   \n",
       "\n",
       "   order_hour  \n",
       "0          11  \n",
       "1          11  \n",
       "2          11  \n",
       "3          11  \n",
       "4          11  "
      ]
     },
     "execution_count": 48,
     "metadata": {},
     "output_type": "execute_result"
    }
   ],
   "source": [
    "# проверка результата\n",
    "pizza.head(5)"
   ]
  },
  {
   "cell_type": "markdown",
   "metadata": {},
   "source": [
    "При помощи группировки и применения агрегирующих функций создадим таблицу со номером заказа, временем и датой , количеством наименований в заказе и стоимостью."
   ]
  },
  {
   "cell_type": "code",
   "execution_count": 60,
   "metadata": {},
   "outputs": [
    {
     "data": {
      "text/html": [
       "<div>\n",
       "<style scoped>\n",
       "    .dataframe tbody tr th:only-of-type {\n",
       "        vertical-align: middle;\n",
       "    }\n",
       "\n",
       "    .dataframe tbody tr th {\n",
       "        vertical-align: top;\n",
       "    }\n",
       "\n",
       "    .dataframe thead th {\n",
       "        text-align: right;\n",
       "    }\n",
       "</style>\n",
       "<table border=\"1\" class=\"dataframe\">\n",
       "  <thead>\n",
       "    <tr style=\"text-align: right;\">\n",
       "      <th></th>\n",
       "      <th>order_id</th>\n",
       "      <th>order_month</th>\n",
       "      <th>order_day</th>\n",
       "      <th>order_day_number</th>\n",
       "      <th>order_hour</th>\n",
       "      <th>quantity</th>\n",
       "      <th>total_price</th>\n",
       "    </tr>\n",
       "  </thead>\n",
       "  <tbody>\n",
       "    <tr>\n",
       "      <th>0</th>\n",
       "      <td>1.0</td>\n",
       "      <td>1</td>\n",
       "      <td>Thursday</td>\n",
       "      <td>3</td>\n",
       "      <td>11</td>\n",
       "      <td>1.0</td>\n",
       "      <td>13.25</td>\n",
       "    </tr>\n",
       "    <tr>\n",
       "      <th>1</th>\n",
       "      <td>2.0</td>\n",
       "      <td>1</td>\n",
       "      <td>Thursday</td>\n",
       "      <td>3</td>\n",
       "      <td>11</td>\n",
       "      <td>5.0</td>\n",
       "      <td>92.00</td>\n",
       "    </tr>\n",
       "    <tr>\n",
       "      <th>2</th>\n",
       "      <td>3.0</td>\n",
       "      <td>1</td>\n",
       "      <td>Thursday</td>\n",
       "      <td>3</td>\n",
       "      <td>12</td>\n",
       "      <td>2.0</td>\n",
       "      <td>37.25</td>\n",
       "    </tr>\n",
       "    <tr>\n",
       "      <th>3</th>\n",
       "      <td>4.0</td>\n",
       "      <td>1</td>\n",
       "      <td>Thursday</td>\n",
       "      <td>3</td>\n",
       "      <td>12</td>\n",
       "      <td>1.0</td>\n",
       "      <td>16.50</td>\n",
       "    </tr>\n",
       "    <tr>\n",
       "      <th>4</th>\n",
       "      <td>5.0</td>\n",
       "      <td>1</td>\n",
       "      <td>Thursday</td>\n",
       "      <td>3</td>\n",
       "      <td>12</td>\n",
       "      <td>1.0</td>\n",
       "      <td>16.50</td>\n",
       "    </tr>\n",
       "    <tr>\n",
       "      <th>...</th>\n",
       "      <td>...</td>\n",
       "      <td>...</td>\n",
       "      <td>...</td>\n",
       "      <td>...</td>\n",
       "      <td>...</td>\n",
       "      <td>...</td>\n",
       "      <td>...</td>\n",
       "    </tr>\n",
       "    <tr>\n",
       "      <th>21345</th>\n",
       "      <td>21346.0</td>\n",
       "      <td>12</td>\n",
       "      <td>Thursday</td>\n",
       "      <td>3</td>\n",
       "      <td>20</td>\n",
       "      <td>4.0</td>\n",
       "      <td>62.25</td>\n",
       "    </tr>\n",
       "    <tr>\n",
       "      <th>21346</th>\n",
       "      <td>21347.0</td>\n",
       "      <td>12</td>\n",
       "      <td>Thursday</td>\n",
       "      <td>3</td>\n",
       "      <td>21</td>\n",
       "      <td>4.0</td>\n",
       "      <td>66.50</td>\n",
       "    </tr>\n",
       "    <tr>\n",
       "      <th>21347</th>\n",
       "      <td>21348.0</td>\n",
       "      <td>12</td>\n",
       "      <td>Thursday</td>\n",
       "      <td>3</td>\n",
       "      <td>21</td>\n",
       "      <td>3.0</td>\n",
       "      <td>46.70</td>\n",
       "    </tr>\n",
       "    <tr>\n",
       "      <th>21348</th>\n",
       "      <td>21349.0</td>\n",
       "      <td>12</td>\n",
       "      <td>Thursday</td>\n",
       "      <td>3</td>\n",
       "      <td>22</td>\n",
       "      <td>1.0</td>\n",
       "      <td>20.25</td>\n",
       "    </tr>\n",
       "    <tr>\n",
       "      <th>21349</th>\n",
       "      <td>21350.0</td>\n",
       "      <td>12</td>\n",
       "      <td>Thursday</td>\n",
       "      <td>3</td>\n",
       "      <td>23</td>\n",
       "      <td>1.0</td>\n",
       "      <td>12.75</td>\n",
       "    </tr>\n",
       "  </tbody>\n",
       "</table>\n",
       "<p>21350 rows × 7 columns</p>\n",
       "</div>"
      ],
      "text/plain": [
       "       order_id  order_month order_day  order_day_number  order_hour  \\\n",
       "0           1.0            1  Thursday                 3          11   \n",
       "1           2.0            1  Thursday                 3          11   \n",
       "2           3.0            1  Thursday                 3          12   \n",
       "3           4.0            1  Thursday                 3          12   \n",
       "4           5.0            1  Thursday                 3          12   \n",
       "...         ...          ...       ...               ...         ...   \n",
       "21345   21346.0           12  Thursday                 3          20   \n",
       "21346   21347.0           12  Thursday                 3          21   \n",
       "21347   21348.0           12  Thursday                 3          21   \n",
       "21348   21349.0           12  Thursday                 3          22   \n",
       "21349   21350.0           12  Thursday                 3          23   \n",
       "\n",
       "       quantity  total_price  \n",
       "0           1.0        13.25  \n",
       "1           5.0        92.00  \n",
       "2           2.0        37.25  \n",
       "3           1.0        16.50  \n",
       "4           1.0        16.50  \n",
       "...         ...          ...  \n",
       "21345       4.0        62.25  \n",
       "21346       4.0        66.50  \n",
       "21347       3.0        46.70  \n",
       "21348       1.0        20.25  \n",
       "21349       1.0        12.75  \n",
       "\n",
       "[21350 rows x 7 columns]"
      ]
     },
     "execution_count": 60,
     "metadata": {},
     "output_type": "execute_result"
    }
   ],
   "source": [
    "orders = pizza.groupby(['order_id', 'order_month', 'order_day',\t'order_day_number', 'order_hour']).agg({'quantity': sum, 'total_price': 'sum'}).reset_index()\n",
    "orders"
   ]
  },
  {
   "cell_type": "code",
   "execution_count": 64,
   "metadata": {},
   "outputs": [
    {
     "data": {
      "text/html": [
       "<div>\n",
       "<style scoped>\n",
       "    .dataframe tbody tr th:only-of-type {\n",
       "        vertical-align: middle;\n",
       "    }\n",
       "\n",
       "    .dataframe tbody tr th {\n",
       "        vertical-align: top;\n",
       "    }\n",
       "\n",
       "    .dataframe thead th {\n",
       "        text-align: right;\n",
       "    }\n",
       "</style>\n",
       "<table border=\"1\" class=\"dataframe\">\n",
       "  <thead>\n",
       "    <tr style=\"text-align: right;\">\n",
       "      <th></th>\n",
       "      <th>order_id</th>\n",
       "      <th>order_month</th>\n",
       "      <th>order_day_number</th>\n",
       "      <th>order_hour</th>\n",
       "      <th>quantity</th>\n",
       "      <th>total_price</th>\n",
       "    </tr>\n",
       "  </thead>\n",
       "  <tbody>\n",
       "    <tr>\n",
       "      <th>count</th>\n",
       "      <td>21350.000000</td>\n",
       "      <td>21350.000000</td>\n",
       "      <td>21350.000000</td>\n",
       "      <td>21350.000000</td>\n",
       "      <td>21350.000000</td>\n",
       "      <td>21350.000000</td>\n",
       "    </tr>\n",
       "    <tr>\n",
       "      <th>mean</th>\n",
       "      <td>10675.500000</td>\n",
       "      <td>6.423888</td>\n",
       "      <td>2.995363</td>\n",
       "      <td>16.085527</td>\n",
       "      <td>2.321967</td>\n",
       "      <td>38.307262</td>\n",
       "    </tr>\n",
       "    <tr>\n",
       "      <th>std</th>\n",
       "      <td>6163.358459</td>\n",
       "      <td>3.437223</td>\n",
       "      <td>1.956103</td>\n",
       "      <td>3.152723</td>\n",
       "      <td>1.825735</td>\n",
       "      <td>30.648197</td>\n",
       "    </tr>\n",
       "    <tr>\n",
       "      <th>min</th>\n",
       "      <td>1.000000</td>\n",
       "      <td>1.000000</td>\n",
       "      <td>0.000000</td>\n",
       "      <td>9.000000</td>\n",
       "      <td>1.000000</td>\n",
       "      <td>9.750000</td>\n",
       "    </tr>\n",
       "    <tr>\n",
       "      <th>25%</th>\n",
       "      <td>5338.250000</td>\n",
       "      <td>3.000000</td>\n",
       "      <td>1.000000</td>\n",
       "      <td>13.000000</td>\n",
       "      <td>1.000000</td>\n",
       "      <td>17.950000</td>\n",
       "    </tr>\n",
       "    <tr>\n",
       "      <th>50%</th>\n",
       "      <td>10675.500000</td>\n",
       "      <td>6.000000</td>\n",
       "      <td>3.000000</td>\n",
       "      <td>16.000000</td>\n",
       "      <td>2.000000</td>\n",
       "      <td>32.500000</td>\n",
       "    </tr>\n",
       "    <tr>\n",
       "      <th>75%</th>\n",
       "      <td>16012.750000</td>\n",
       "      <td>9.000000</td>\n",
       "      <td>5.000000</td>\n",
       "      <td>19.000000</td>\n",
       "      <td>3.000000</td>\n",
       "      <td>49.500000</td>\n",
       "    </tr>\n",
       "    <tr>\n",
       "      <th>max</th>\n",
       "      <td>21350.000000</td>\n",
       "      <td>12.000000</td>\n",
       "      <td>6.000000</td>\n",
       "      <td>23.000000</td>\n",
       "      <td>28.000000</td>\n",
       "      <td>444.200000</td>\n",
       "    </tr>\n",
       "  </tbody>\n",
       "</table>\n",
       "</div>"
      ],
      "text/plain": [
       "           order_id   order_month  order_day_number    order_hour  \\\n",
       "count  21350.000000  21350.000000      21350.000000  21350.000000   \n",
       "mean   10675.500000      6.423888          2.995363     16.085527   \n",
       "std     6163.358459      3.437223          1.956103      3.152723   \n",
       "min        1.000000      1.000000          0.000000      9.000000   \n",
       "25%     5338.250000      3.000000          1.000000     13.000000   \n",
       "50%    10675.500000      6.000000          3.000000     16.000000   \n",
       "75%    16012.750000      9.000000          5.000000     19.000000   \n",
       "max    21350.000000     12.000000          6.000000     23.000000   \n",
       "\n",
       "           quantity   total_price  \n",
       "count  21350.000000  21350.000000  \n",
       "mean       2.321967     38.307262  \n",
       "std        1.825735     30.648197  \n",
       "min        1.000000      9.750000  \n",
       "25%        1.000000     17.950000  \n",
       "50%        2.000000     32.500000  \n",
       "75%        3.000000     49.500000  \n",
       "max       28.000000    444.200000  "
      ]
     },
     "execution_count": 64,
     "metadata": {},
     "output_type": "execute_result"
    }
   ],
   "source": [
    "orders.describe()"
   ]
  },
  {
   "cell_type": "code",
   "execution_count": 77,
   "metadata": {},
   "outputs": [
    {
     "data": {
      "text/plain": [
       "<AxesSubplot:>"
      ]
     },
     "execution_count": 77,
     "metadata": {},
     "output_type": "execute_result"
    },
    {
     "data": {
      "image/png": "[encoded data removed]",
      "text/plain": [
       "<Figure size 640x480 with 1 Axes>"
      ]
     },
     "metadata": {},
     "output_type": "display_data"
    }
   ],
   "source": [
    "orders['quantity'].hist(bins=25)"
   ]
  },
  {
   "cell_type": "code",
   "execution_count": 71,
   "metadata": {},
   "outputs": [
    {
     "data": {
      "text/plain": [
       "<AxesSubplot:ylabel='quantity'>"
      ]
     },
     "execution_count": 71,
     "metadata": {},
     "output_type": "execute_result"
    },
    {
     "data": {
      "image/png": "[encoded data removed]",
      "text/plain": [
       "<Figure size 640x480 with 1 Axes>"
      ]
     },
     "metadata": {},
     "output_type": "display_data"
    }
   ],
   "source": [
    "sns.boxplot(data=orders, y='quantity')"
   ]
  },
  {
   "cell_type": "markdown",
   "metadata": {},
   "source": [
    "## Проанализируем продажи в срезе временных рядов"
   ]
  },
  {
   "cell_type": "code",
   "execution_count": 78,
   "metadata": {},
   "outputs": [
    {
     "data": {
      "text/plain": [
       "<AxesSubplot:ylabel='total_price'>"
      ]
     },
     "execution_count": 78,
     "metadata": {},
     "output_type": "execute_result"
    },
    {
     "data": {
      "image/png": "[encoded data removed]",
      "text/plain": [
       "<Figure size 640x480 with 1 Axes>"
      ]
     },
     "metadata": {},
     "output_type": "display_data"
    }
   ],
   "source": [
    "sns.boxplot(data=orders, y='total_price')"
   ]
  },
  {
   "cell_type": "code",
   "execution_count": 80,
   "metadata": {},
   "outputs": [
    {
     "data": {
      "text/plain": [
       "<AxesSubplot:>"
      ]
     },
     "execution_count": 80,
     "metadata": {},
     "output_type": "execute_result"
    },
    {
     "data": {
      "image/png": "[encoded data removed]",
      "text/plain": [
       "<Figure size 640x480 with 1 Axes>"
      ]
     },
     "metadata": {},
     "output_type": "display_data"
    }
   ],
   "source": [
    "orders['total_price'].hist(bins=20)"
   ]
  },
  {
   "cell_type": "code",
   "execution_count": 92,
   "metadata": {},
   "outputs": [],
   "source": [
    "months = orders.groupby('order_month')['total_price'].sum().reset_index()"
   ]
  },
  {
   "cell_type": "code",
   "execution_count": 101,
   "metadata": {},
   "outputs": [
    {
     "data": {
      "text/plain": [
       "<AxesSubplot:xlabel='order_month', ylabel='total_price'>"
      ]
     },
     "execution_count": 101,
     "metadata": {},
     "output_type": "execute_result"
    },
    {
     "data": {
      "image/png": "[encoded data removed]",
      "text/plain": [
       "<Figure size 640x480 with 1 Axes>"
      ]
     },
     "metadata": {},
     "output_type": "display_data"
    }
   ],
   "source": [
    "sns.lineplot(data=months, x='order_month', y='total_price')"
   ]
  },
  {
   "cell_type": "code",
   "execution_count": 96,
   "metadata": {},
   "outputs": [],
   "source": [
    "days = orders.groupby('order_day_number').agg({'total_price': 'sum', 'order_id': 'count'}).reset_index()"
   ]
  },
  {
   "cell_type": "code",
   "execution_count": 97,
   "metadata": {},
   "outputs": [
    {
     "data": {
      "text/plain": [
       "<AxesSubplot:xlabel='order_day_number', ylabel='total_price'>"
      ]
     },
     "execution_count": 97,
     "metadata": {},
     "output_type": "execute_result"
    },
    {
     "data": {
      "image/png": "[encoded data removed]",
      "text/plain": [
       "<Figure size 640x480 with 1 Axes>"
      ]
     },
     "metadata": {},
     "output_type": "display_data"
    }
   ],
   "source": [
    "sns.barplot(data=days, x='order_day_number', y='total_price')"
   ]
  },
  {
   "cell_type": "code",
   "execution_count": 99,
   "metadata": {},
   "outputs": [],
   "source": [
    "hours = orders.groupby('order_hour').agg({'total_price': 'sum', 'order_id': 'count'}).reset_index()"
   ]
  },
  {
   "cell_type": "code",
   "execution_count": 102,
   "metadata": {},
   "outputs": [
    {
     "data": {
      "text/plain": [
       "<AxesSubplot:xlabel='order_hour', ylabel='total_price'>"
      ]
     },
     "execution_count": 102,
     "metadata": {},
     "output_type": "execute_result"
    },
    {
     "data": {
      "image/png": "[encoded data removed]",
      "text/plain": [
       "<Figure size 640x480 with 1 Axes>"
      ]
     },
     "metadata": {},
     "output_type": "display_data"
    }
   ],
   "source": [
    "sns.lineplot(data=hours, x='order_hour', y='total_price')"
   ]
  }
 ],
 "metadata": {
  "kernelspec": {
   "display_name": "base",
   "language": "python",
   "name": "python3"
  },
  "language_info": {
   "codemirror_mode": {
    "name": "ipython",
    "version": 3
   },
   "file_extension": ".py",
   "mimetype": "text/x-python",
   "name": "python",
   "nbconvert_exporter": "python",
   "pygments_lexer": "ipython3",
   "version": "3.9.13"
  }
 },
 "nbformat": 4,
 "nbformat_minor": 2
}
